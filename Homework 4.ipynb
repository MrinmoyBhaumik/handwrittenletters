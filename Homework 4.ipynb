{
 "cells": [
  {
   "cell_type": "code",
   "execution_count": 2,
   "metadata": {
    "id": "Y7RtYRZPDowv"
   },
   "outputs": [],
   "source": [
    "import numpy as np\n",
    "from sklearn.utils import shuffle\n",
    "from sklearn.metrics import accuracy_score\n",
    "import matplotlib.pyplot as plt\n",
    "\n",
    "import tensorflow as tf\n",
    "from tensorflow import keras\n",
    "from tensorflow.keras import Sequential, Model"
   ]
  },
  {
   "cell_type": "code",
   "execution_count": 3,
   "metadata": {
    "colab": {
     "base_uri": "https://localhost:8080/"
    },
    "id": "j3oPyN1eD2Sl",
    "outputId": "8cd1d7cb-0c45-4383-a813-c122d3f3daa0"
   },
   "outputs": [
    {
     "name": "stdout",
     "output_type": "stream",
     "text": [
      "Requirement already satisfied: pillow in /usr/local/lib/python3.7/dist-packages (7.1.2)\n"
     ]
    }
   ],
   "source": [
    "!pip install pillow\n",
    "from PIL import Image\n",
    "\n",
    "import matplotlib.pyplot as plt\n",
    "import glob"
   ]
  },
  {
   "cell_type": "code",
   "execution_count": 4,
   "metadata": {
    "colab": {
     "base_uri": "https://localhost:8080/"
    },
    "id": "2d04LOHcQvXl",
    "outputId": "b52e6ca8-a1d3-49a1-9080-3b3b6c98db14"
   },
   "outputs": [
    {
     "name": "stdout",
     "output_type": "stream",
     "text": [
      "Drive already mounted at /content/drive; to attempt to forcibly remount, call drive.mount(\"/content/drive\", force_remount=True).\n"
     ]
    }
   ],
   "source": [
    "from google.colab import drive\n",
    "drive.mount('/content/drive')"
   ]
  },
  {
   "cell_type": "code",
   "execution_count": 5,
   "metadata": {
    "id": "a7_nU6TKbCzo"
   },
   "outputs": [],
   "source": [
    "def plot_training_curves(history, title=None):\n",
    "    ''' Plot the training curves for loss and accuracy given a model history\n",
    "    '''\n",
    "    # find the minimum loss epoch\n",
    "    minimum = np.min(history.history['val_loss'])\n",
    "    min_loc = np.where(minimum == history.history['val_loss'])[0]\n",
    "    # get the vline y-min and y-max\n",
    "    loss_min, loss_max = (min(history.history['val_loss'] + history.history['loss']),\n",
    "                          max(history.history['val_loss'] + history.history['loss']))\n",
    "    acc_min, acc_max = (min(history.history['val_accuracy'] + history.history['accuracy']),\n",
    "                        max(history.history['val_accuracy'] + history.history['accuracy']))\n",
    "    # create figure\n",
    "    fig, ax = plt.subplots(ncols=2, figsize = (15,7))\n",
    "    fig.suptitle(title)\n",
    "    index = np.arange(1, len(history.history['accuracy']) + 1)\n",
    "    # plot the loss and validation loss\n",
    "    ax[0].plot(index, history.history['loss'], label = 'loss')\n",
    "    ax[0].plot(index, history.history['val_loss'], label = 'val_loss')\n",
    "    ax[0].vlines(min_loc + 1, loss_min, loss_max, label = 'min_loss_location')\n",
    "    ax[0].set_title('Loss')\n",
    "    ax[0].set_ylabel('Loss')\n",
    "    ax[0].set_xlabel('Epochs')\n",
    "    ax[0].legend()\n",
    "    # plot the accuracy and validation accuracy\n",
    "    ax[1].plot(index, history.history['accuracy'], label = 'accuracy')\n",
    "    ax[1].plot(index, history.history['val_accuracy'], label = 'val_accuracy')\n",
    "    ax[1].vlines(min_loc + 1, acc_min, acc_max, label = 'min_loss_location')\n",
    "    ax[1].set_title('Accuracy')\n",
    "    ax[1].set_ylabel('Accuracy')\n",
    "    ax[1].set_xlabel('Epochs')\n",
    "    ax[1].legend()\n",
    "    plt.show()"
   ]
  },
  {
   "cell_type": "code",
   "execution_count": 5,
   "metadata": {
    "colab": {
     "base_uri": "https://localhost:8080/"
    },
    "id": "j759B2N32qd5",
    "outputId": "1b49fa0d-3540-4c37-fc5a-08c3c53c6e84"
   },
   "outputs": [
    {
     "name": "stdout",
     "output_type": "stream",
     "text": [
      "Downloading data from https://storage.googleapis.com/tensorflow/tf-keras-datasets/mnist.npz\n",
      "11493376/11490434 [==============================] - 0s 0us/step\n"
     ]
    }
   ],
   "source": [
    "(x_train, y_train), (x_test, y_test) = keras.datasets.mnist.load_data()"
   ]
  },
  {
   "cell_type": "code",
   "execution_count": 6,
   "metadata": {
    "colab": {
     "base_uri": "https://localhost:8080/"
    },
    "id": "fR8ezK65YZbV",
    "outputId": "2318b63f-f0b3-4392-d568-35e9649b5ce2"
   },
   "outputs": [
    {
     "data": {
      "text/plain": [
       "(60000,)"
      ]
     },
     "execution_count": 6,
     "metadata": {
      "tags": []
     },
     "output_type": "execute_result"
    }
   ],
   "source": [
    "y_train.shape"
   ]
  },
  {
   "cell_type": "code",
   "execution_count": 7,
   "metadata": {
    "id": "wXUz3IXyX-Pl"
   },
   "outputs": [],
   "source": [
    "train_data = x_train/255\n",
    "test_data = x_test/255"
   ]
  },
  {
   "cell_type": "code",
   "execution_count": 8,
   "metadata": {
    "id": "DdqkbtoNiMTG"
   },
   "outputs": [],
   "source": [
    "# reshape to add color channel\n",
    "train_data = train_data.reshape(train_data.shape + (1,))\n",
    "test_data = test_data.reshape(test_data.shape + (1,))\n"
   ]
  },
  {
   "cell_type": "code",
   "execution_count": 9,
   "metadata": {
    "colab": {
     "base_uri": "https://localhost:8080/"
    },
    "id": "m-R5zi5gFOZp",
    "outputId": "1601bd1a-c605-410e-b5a5-91e54fa49380"
   },
   "outputs": [
    {
     "name": "stdout",
     "output_type": "stream",
     "text": [
      "Epoch 1/1000\n",
      "1875/1875 [==============================] - 24s 4ms/step - loss: 0.3978 - accuracy: 0.8721 - val_loss: 0.0499 - val_accuracy: 0.9827\n",
      "Epoch 2/1000\n",
      "1875/1875 [==============================] - 7s 4ms/step - loss: 0.0707 - accuracy: 0.9777 - val_loss: 0.0379 - val_accuracy: 0.9880\n",
      "Epoch 3/1000\n",
      "1875/1875 [==============================] - 7s 4ms/step - loss: 0.0455 - accuracy: 0.9859 - val_loss: 0.0267 - val_accuracy: 0.9912\n",
      "Epoch 4/1000\n",
      "1875/1875 [==============================] - 7s 4ms/step - loss: 0.0401 - accuracy: 0.9871 - val_loss: 0.0272 - val_accuracy: 0.9908\n",
      "Epoch 5/1000\n",
      "1875/1875 [==============================] - 7s 4ms/step - loss: 0.0310 - accuracy: 0.9902 - val_loss: 0.0248 - val_accuracy: 0.9919\n",
      "Epoch 6/1000\n",
      "1875/1875 [==============================] - 7s 4ms/step - loss: 0.0280 - accuracy: 0.9913 - val_loss: 0.0239 - val_accuracy: 0.9919\n",
      "Epoch 7/1000\n",
      "1875/1875 [==============================] - 7s 4ms/step - loss: 0.0237 - accuracy: 0.9923 - val_loss: 0.0243 - val_accuracy: 0.9918\n"
     ]
    }
   ],
   "source": [
    "num_classes=10\n",
    "filters=32\n",
    "pool_size=2\n",
    "kernel_size=3\n",
    "dropout=0.2\n",
    "input_shape = (28,28,1)\n",
    "\n",
    "model = Sequential([\n",
    "      # convolutional feature extraction\n",
    "      # ConvNet 1\n",
    "      keras.layers.Conv2D(filters, kernel_size, padding = 'valid',\n",
    "              activation='relu',\n",
    "              input_shape=input_shape),\n",
    "      keras.layers.MaxPooling2D(pool_size=pool_size),\n",
    "\n",
    "      # ConvNet 2\n",
    "      keras.layers.Conv2D(filters, kernel_size,\n",
    "              padding = 'valid',\n",
    "              activation='relu'),\n",
    "      keras.layers.MaxPooling2D(pool_size=pool_size),\n",
    "\n",
    "      # classification \n",
    "      # will retrain from here\n",
    "      keras.layers.Flatten(name='flatten'),\n",
    "\n",
    "      keras.layers.Dropout(dropout),\n",
    "      keras.layers.Dense(128, activation='relu'),\n",
    "      \n",
    "      keras.layers.Dropout(dropout, name='penult'),\n",
    "      keras.layers.Dense(num_classes, activation='softmax', name='last')\n",
    "  ])\n",
    "\n",
    "es = keras.callbacks.EarlyStopping(min_delta=0.001, patience=2)\n",
    "\n",
    "model.compile(loss='sparse_categorical_crossentropy',\n",
    "                      optimizer='adam', #sgd, nadam, adam, rmsprop\n",
    "                      metrics=['accuracy'])\n",
    "\n",
    "history = model.fit(train_data, y_train,\n",
    "                    validation_data=(test_data, y_test),\n",
    "                    batch_size=32,\n",
    "                    epochs=1000,\n",
    "                    callbacks=[es])"
   ]
  },
  {
   "cell_type": "code",
   "execution_count": 10,
   "metadata": {
    "colab": {
     "base_uri": "https://localhost:8080/",
     "height": 458
    },
    "id": "uzxKM7tKFRpY",
    "outputId": "529027da-e0d9-4c8b-f684-c9c277a78811"
   },
   "outputs": [
    {
     "data": {
      "image/png": "[encoded data removed]",
      "text/plain": [
       "<Figure size 1080x504 with 2 Axes>"
      ]
     },
     "metadata": {
      "needs_background": "light",
      "tags": []
     },
     "output_type": "display_data"
    }
   ],
   "source": [
    "plot_training_curves(history=history)"
   ]
  },
  {
   "cell_type": "code",
   "execution_count": null,
   "metadata": {
    "id": "ItrdeWYdef9h"
   },
   "outputs": [],
   "source": []
  },
  {
   "cell_type": "code",
   "execution_count": 11,
   "metadata": {
    "id": "qhZ4MObCSzIb"
   },
   "outputs": [],
   "source": [
    "letters_A = glob.glob('/content/drive/MyDrive/Train/A/*')\n",
    "letters_B = glob.glob('/content/drive/MyDrive/Train/B/*')\n",
    "letters_C = glob.glob('/content/drive/MyDrive/Train/C/*')\n",
    "letters_D = glob.glob('/content/drive/MyDrive/Train/D/*')\n",
    "letters_E = glob.glob('/content/drive/MyDrive/Train/E/*')"
   ]
  },
  {
   "cell_type": "code",
   "execution_count": 12,
   "metadata": {
    "colab": {
     "base_uri": "https://localhost:8080/"
    },
    "id": "SA_hpNscTmDY",
    "outputId": "78bc227f-b172-4c69-ac26-435bdf94623b"
   },
   "outputs": [
    {
     "data": {
      "text/plain": [
       "['/content/drive/MyDrive/Train/A/AmeetA1.jpg',\n",
       " '/content/drive/MyDrive/Train/A/AmeetA2.jpg',\n",
       " '/content/drive/MyDrive/Train/A/AmeetA3.jpg',\n",
       " '/content/drive/MyDrive/Train/A/AmeetA4.jpg',\n",
       " '/content/drive/MyDrive/Train/A/AmeetA5.jpg',\n",
       " '/content/drive/MyDrive/Train/A/AmeetA6.jpg',\n",
       " '/content/drive/MyDrive/Train/A/AmeetA7.jpg',\n",
       " '/content/drive/MyDrive/Train/A/AmeetA8.jpg',\n",
       " '/content/drive/MyDrive/Train/A/AmeetA9.jpg',\n",
       " '/content/drive/MyDrive/Train/A/AmeetA10.jpg',\n",
       " '/content/drive/MyDrive/Train/A/KathyPicsA1.jpg',\n",
       " '/content/drive/MyDrive/Train/A/DadPicsA1.jpg',\n",
       " '/content/drive/MyDrive/Train/A/DadPicsA2.jpg',\n",
       " '/content/drive/MyDrive/Train/A/DadPicsA3.jpg',\n",
       " '/content/drive/MyDrive/Train/A/DadPicsA4.jpg',\n",
       " '/content/drive/MyDrive/Train/A/DadPicsA5.jpg',\n",
       " '/content/drive/MyDrive/Train/A/DadPicsA6.jpg',\n",
       " '/content/drive/MyDrive/Train/A/DadPicsA7.jpg',\n",
       " '/content/drive/MyDrive/Train/A/DadPicsA10.jpg',\n",
       " '/content/drive/MyDrive/Train/A/DadPicsA9.jpg',\n",
       " '/content/drive/MyDrive/Train/A/DadPicsA8.jpg',\n",
       " '/content/drive/MyDrive/Train/A/MomPicsA1.jpg',\n",
       " '/content/drive/MyDrive/Train/A/MomPicsA2.jpg',\n",
       " '/content/drive/MyDrive/Train/A/MomPicsA3.jpg',\n",
       " '/content/drive/MyDrive/Train/A/MomPicsA4.jpg',\n",
       " '/content/drive/MyDrive/Train/A/MomPicsA5.jpg',\n",
       " '/content/drive/MyDrive/Train/A/MomPicsA6.jpg',\n",
       " '/content/drive/MyDrive/Train/A/MomPicsA7.jpg',\n",
       " '/content/drive/MyDrive/Train/A/MomPicsA8.jpg',\n",
       " '/content/drive/MyDrive/Train/A/MomPicsA9.jpg',\n",
       " '/content/drive/MyDrive/Train/A/MomPicsA10.jpg']"
      ]
     },
     "execution_count": 12,
     "metadata": {
      "tags": []
     },
     "output_type": "execute_result"
    }
   ],
   "source": [
    "letters_A[:31]"
   ]
  },
  {
   "cell_type": "code",
   "execution_count": 13,
   "metadata": {
    "id": "BZK1IVJWam2H"
   },
   "outputs": [],
   "source": [
    "A_images = []\n",
    "B_images = []\n",
    "C_images = []\n",
    "D_images = []\n",
    "E_images = []\n",
    "size = (28,28)\n",
    "for im in letters_A[:31]:\n",
    "  im = Image.open(im).convert(\"L\").resize(size)\n",
    "  A_images.append(np.array(im))\n",
    "\n",
    "for im in letters_B[:31]:\n",
    "  im = Image.open(im).convert(\"L\").resize(size)\n",
    "  B_images.append(np.array(im))\n",
    "\n",
    "for im in letters_C[:31]:\n",
    "  im = Image.open(im).convert(\"L\").resize(size)\n",
    "  C_images.append(np.array(im))\n",
    "\n",
    "for im in letters_D[:31]:\n",
    "  im = Image.open(im).convert(\"L\").resize(size)\n",
    "  D_images.append(np.array(im))\n",
    "\n",
    "for im in letters_E[:31]:\n",
    "  im = Image.open(im).convert(\"L\").resize(size)\n",
    "  E_images.append(np.array(im))  "
   ]
  },
  {
   "cell_type": "code",
   "execution_count": 14,
   "metadata": {
    "id": "d4E6HAsD_kBf"
   },
   "outputs": [],
   "source": [
    "A_train = np.stack(A_images)\n",
    "B_train = np.stack(B_images)\n",
    "C_train = np.stack(C_images)\n",
    "D_train = np.stack(D_images)\n",
    "E_train = np.stack(E_images)"
   ]
  },
  {
   "cell_type": "code",
   "execution_count": 15,
   "metadata": {
    "colab": {
     "base_uri": "https://localhost:8080/"
    },
    "id": "OokWRN16EjNu",
    "outputId": "1bd77d0f-44f8-45d7-f855-30076e5f16cd"
   },
   "outputs": [
    {
     "name": "stdout",
     "output_type": "stream",
     "text": [
      "(31, 28, 28)\n",
      "(31, 28, 28)\n",
      "(31, 28, 28)\n",
      "(31, 28, 28)\n"
     ]
    }
   ],
   "source": [
    "print(B_train.shape)\n",
    "print(C_train.shape)\n",
    "print(D_train.shape)\n",
    "print(E_train.shape)"
   ]
  },
  {
   "cell_type": "code",
   "execution_count": 16,
   "metadata": {
    "id": "axtV0XEjCATc"
   },
   "outputs": [],
   "source": [
    "X_data1 = np.append(A_train,B_train,axis=0)"
   ]
  },
  {
   "cell_type": "code",
   "execution_count": 17,
   "metadata": {
    "id": "KATDYZbyE-gW"
   },
   "outputs": [],
   "source": [
    "X_data1 = np.append(X_data1,C_train,axis=0)"
   ]
  },
  {
   "cell_type": "code",
   "execution_count": 18,
   "metadata": {
    "id": "4ONLYX8VFK6d"
   },
   "outputs": [],
   "source": [
    "X_data1 = np.append(X_data1,D_train,axis=0)"
   ]
  },
  {
   "cell_type": "code",
   "execution_count": 19,
   "metadata": {
    "id": "7Tn3JjSkFTzx"
   },
   "outputs": [],
   "source": [
    "X_data1 = np.append(X_data1,E_train,axis=0)"
   ]
  },
  {
   "cell_type": "code",
   "execution_count": 20,
   "metadata": {
    "colab": {
     "base_uri": "https://localhost:8080/"
    },
    "id": "viFj8MZtFbYA",
    "outputId": "d36bfc49-af23-4a99-bb7e-4bfc7fd79e6d"
   },
   "outputs": [
    {
     "data": {
      "text/plain": [
       "(155, 28, 28)"
      ]
     },
     "execution_count": 20,
     "metadata": {
      "tags": []
     },
     "output_type": "execute_result"
    }
   ],
   "source": [
    "X_data1.shape"
   ]
  },
  {
   "cell_type": "code",
   "execution_count": 21,
   "metadata": {
    "colab": {
     "base_uri": "https://localhost:8080/"
    },
    "id": "8LjvWbiGGL_Y",
    "outputId": "cfed7fab-8931-4377-d65a-5a4f184d01ef"
   },
   "outputs": [
    {
     "data": {
      "text/plain": [
       "(155, 28, 28, 1)"
      ]
     },
     "execution_count": 21,
     "metadata": {
      "tags": []
     },
     "output_type": "execute_result"
    }
   ],
   "source": [
    "X_data1 = X_data1.reshape((155,28,28,1))\n",
    "X_data1.shape"
   ]
  },
  {
   "cell_type": "code",
   "execution_count": 22,
   "metadata": {
    "id": "2wsmYNdH0eoU"
   },
   "outputs": [],
   "source": [
    "A_label = np.full((31,),0)\n",
    "B_label = np.full((31,),1)\n",
    "C_label = np.full((31,),2)\n",
    "D_label = np.full((31,),3)\n",
    "E_label = np.full((31,),4)"
   ]
  },
  {
   "cell_type": "code",
   "execution_count": 23,
   "metadata": {
    "id": "Fa-H9Bsr3Yyn"
   },
   "outputs": [],
   "source": [
    "y_data1 = np.append(A_label,[B_label,C_label,D_label,E_label])"
   ]
  },
  {
   "cell_type": "code",
   "execution_count": 24,
   "metadata": {
    "colab": {
     "base_uri": "https://localhost:8080/"
    },
    "id": "7WDnOCD14dwB",
    "outputId": "7b5f832c-0585-4065-e164-f37328e546be"
   },
   "outputs": [
    {
     "data": {
      "text/plain": [
       "(155,)"
      ]
     },
     "execution_count": 24,
     "metadata": {
      "tags": []
     },
     "output_type": "execute_result"
    }
   ],
   "source": [
    "y_data1.shape"
   ]
  },
  {
   "cell_type": "code",
   "execution_count": 25,
   "metadata": {
    "id": "k6qJUOW1bH1t"
   },
   "outputs": [],
   "source": [
    "from sklearn.model_selection import train_test_split\n",
    "X_train, X_test, y_train, y_test = train_test_split(X_data1,y_data1,test_size = .25,random_state = 1776)"
   ]
  },
  {
   "cell_type": "code",
   "execution_count": 26,
   "metadata": {
    "id": "-4u_2UJqPht0"
   },
   "outputs": [],
   "source": [
    "X_train = X_train/255\n",
    "X_test = X_test/255"
   ]
  },
  {
   "cell_type": "code",
   "execution_count": 27,
   "metadata": {
    "colab": {
     "base_uri": "https://localhost:8080/"
    },
    "id": "vivMKvZfUvkU",
    "outputId": "ed41144b-7b13-4707-a9b3-f47150b57e47"
   },
   "outputs": [
    {
     "name": "stdout",
     "output_type": "stream",
     "text": [
      "Layer Name        Is Trainable?\n",
      "conv2d            False\n",
      "max_pooling2d     False\n",
      "conv2d_1          False\n",
      "max_pooling2d_1   False\n",
      "flatten           False\n",
      "dropout           True\n",
      "dense             True\n",
      "penult            True\n",
      "last              True\n"
     ]
    }
   ],
   "source": [
    "layer_trainable = False\n",
    "for layer in model.layers:\n",
    "  layer.trainable = layer_trainable\n",
    "  if layer.name == 'flatten':\n",
    "    layer_trainable = True\n",
    "\n",
    "print(f\"{'Layer Name':17} {'Is Trainable?'}\")\n",
    "for layer in model.layers:\n",
    "  print(f\"{layer.name:17} {layer.trainable}\")"
   ]
  },
  {
   "cell_type": "code",
   "execution_count": 28,
   "metadata": {
    "id": "4BZtNUUHJTr8"
   },
   "outputs": [],
   "source": [
    "penult_layer = model.get_layer(name='penult')\n",
    "\n",
    "output_layer = keras.layers.Dense(5, activation='softmax')(penult_layer.output)\n",
    "\n",
    "new_model = Model(model.input, output_layer)"
   ]
  },
  {
   "cell_type": "code",
   "execution_count": 29,
   "metadata": {
    "colab": {
     "base_uri": "https://localhost:8080/"
    },
    "id": "G9x-EBRvNWvI",
    "outputId": "d8697d93-a028-4491-aa5e-38e27bff1664"
   },
   "outputs": [
    {
     "name": "stdout",
     "output_type": "stream",
     "text": [
      "Model: \"model\"\n",
      "_________________________________________________________________\n",
      "Layer (type)                 Output Shape              Param #   \n",
      "=================================================================\n",
      "conv2d_input (InputLayer)    [(None, 28, 28, 1)]       0         \n",
      "_________________________________________________________________\n",
      "conv2d (Conv2D)              (None, 26, 26, 32)        320       \n",
      "_________________________________________________________________\n",
      "max_pooling2d (MaxPooling2D) (None, 13, 13, 32)        0         \n",
      "_________________________________________________________________\n",
      "conv2d_1 (Conv2D)            (None, 11, 11, 32)        9248      \n",
      "_________________________________________________________________\n",
      "max_pooling2d_1 (MaxPooling2 (None, 5, 5, 32)          0         \n",
      "_________________________________________________________________\n",
      "flatten (Flatten)            (None, 800)               0         \n",
      "_________________________________________________________________\n",
      "dropout (Dropout)            (None, 800)               0         \n",
      "_________________________________________________________________\n",
      "dense (Dense)                (None, 128)               102528    \n",
      "_________________________________________________________________\n",
      "penult (Dropout)             (None, 128)               0         \n",
      "_________________________________________________________________\n",
      "dense_1 (Dense)              (None, 5)                 645       \n",
      "=================================================================\n",
      "Total params: 112,741\n",
      "Trainable params: 103,173\n",
      "Non-trainable params: 9,568\n",
      "_________________________________________________________________\n"
     ]
    }
   ],
   "source": [
    "new_model.summary()"
   ]
  },
  {
   "cell_type": "code",
   "execution_count": 30,
   "metadata": {
    "colab": {
     "base_uri": "https://localhost:8080/"
    },
    "id": "AIeePSKANnyr",
    "outputId": "9aaeb7c5-f662-4f14-a213-46ccfc4dbfab"
   },
   "outputs": [
    {
     "name": "stdout",
     "output_type": "stream",
     "text": [
      "Epoch 1/1000\n",
      "4/4 [==============================] - 1s 80ms/step - loss: 2.3907 - accuracy: 0.1017 - val_loss: 2.1870 - val_accuracy: 0.0769\n",
      "Epoch 2/1000\n",
      "4/4 [==============================] - 0s 16ms/step - loss: 1.8595 - accuracy: 0.2236 - val_loss: 1.8186 - val_accuracy: 0.2308\n",
      "Epoch 3/1000\n",
      "4/4 [==============================] - 0s 16ms/step - loss: 1.3378 - accuracy: 0.4539 - val_loss: 1.5136 - val_accuracy: 0.3077\n",
      "Epoch 4/1000\n",
      "4/4 [==============================] - 0s 15ms/step - loss: 1.0835 - accuracy: 0.5830 - val_loss: 1.2615 - val_accuracy: 0.4872\n",
      "Epoch 5/1000\n",
      "4/4 [==============================] - 0s 17ms/step - loss: 0.8948 - accuracy: 0.7205 - val_loss: 1.0395 - val_accuracy: 0.6410\n",
      "Epoch 6/1000\n",
      "4/4 [==============================] - 0s 17ms/step - loss: 0.7640 - accuracy: 0.7146 - val_loss: 0.8498 - val_accuracy: 0.7692\n",
      "Epoch 7/1000\n",
      "4/4 [==============================] - 0s 20ms/step - loss: 0.5749 - accuracy: 0.8754 - val_loss: 0.7095 - val_accuracy: 0.8205\n",
      "Epoch 8/1000\n",
      "4/4 [==============================] - 0s 15ms/step - loss: 0.5528 - accuracy: 0.8781 - val_loss: 0.6149 - val_accuracy: 0.7949\n",
      "Epoch 9/1000\n",
      "4/4 [==============================] - 0s 16ms/step - loss: 0.3595 - accuracy: 0.9637 - val_loss: 0.5472 - val_accuracy: 0.8205\n",
      "Epoch 10/1000\n",
      "4/4 [==============================] - 0s 15ms/step - loss: 0.3562 - accuracy: 0.9537 - val_loss: 0.5010 - val_accuracy: 0.8462\n",
      "Epoch 11/1000\n",
      "4/4 [==============================] - 0s 17ms/step - loss: 0.4059 - accuracy: 0.9051 - val_loss: 0.4674 - val_accuracy: 0.8462\n",
      "Epoch 12/1000\n",
      "4/4 [==============================] - 0s 18ms/step - loss: 0.3270 - accuracy: 0.9446 - val_loss: 0.4340 - val_accuracy: 0.8462\n",
      "Epoch 13/1000\n",
      "4/4 [==============================] - 0s 16ms/step - loss: 0.2991 - accuracy: 0.9591 - val_loss: 0.4050 - val_accuracy: 0.8462\n",
      "Epoch 14/1000\n",
      "4/4 [==============================] - 0s 15ms/step - loss: 0.2536 - accuracy: 0.9855 - val_loss: 0.3756 - val_accuracy: 0.8718\n",
      "Epoch 15/1000\n",
      "4/4 [==============================] - 0s 17ms/step - loss: 0.1881 - accuracy: 0.9824 - val_loss: 0.3450 - val_accuracy: 0.8718\n",
      "Epoch 16/1000\n",
      "4/4 [==============================] - 0s 14ms/step - loss: 0.2114 - accuracy: 0.9612 - val_loss: 0.3157 - val_accuracy: 0.8718\n",
      "Epoch 17/1000\n",
      "4/4 [==============================] - 0s 15ms/step - loss: 0.1858 - accuracy: 0.9913 - val_loss: 0.2922 - val_accuracy: 0.8974\n",
      "Epoch 18/1000\n",
      "4/4 [==============================] - 0s 16ms/step - loss: 0.1504 - accuracy: 0.9858 - val_loss: 0.2733 - val_accuracy: 0.8974\n",
      "Epoch 19/1000\n",
      "4/4 [==============================] - 0s 16ms/step - loss: 0.1518 - accuracy: 0.9945 - val_loss: 0.2610 - val_accuracy: 0.8974\n",
      "Epoch 20/1000\n",
      "4/4 [==============================] - 0s 15ms/step - loss: 0.1292 - accuracy: 0.9740 - val_loss: 0.2527 - val_accuracy: 0.8974\n",
      "Epoch 21/1000\n",
      "4/4 [==============================] - 0s 15ms/step - loss: 0.1453 - accuracy: 0.9647 - val_loss: 0.2521 - val_accuracy: 0.8974\n",
      "Epoch 22/1000\n",
      "4/4 [==============================] - 0s 15ms/step - loss: 0.1074 - accuracy: 0.9858 - val_loss: 0.2496 - val_accuracy: 0.8974\n",
      "Epoch 23/1000\n",
      "4/4 [==============================] - 0s 15ms/step - loss: 0.1446 - accuracy: 0.9851 - val_loss: 0.2416 - val_accuracy: 0.8974\n",
      "Epoch 24/1000\n",
      "4/4 [==============================] - 0s 15ms/step - loss: 0.0868 - accuracy: 0.9966 - val_loss: 0.2330 - val_accuracy: 0.8974\n",
      "Epoch 25/1000\n",
      "4/4 [==============================] - 0s 15ms/step - loss: 0.1056 - accuracy: 0.9966 - val_loss: 0.2239 - val_accuracy: 0.8974\n",
      "Epoch 26/1000\n",
      "4/4 [==============================] - 0s 15ms/step - loss: 0.0879 - accuracy: 0.9764 - val_loss: 0.2209 - val_accuracy: 0.9487\n",
      "Epoch 27/1000\n",
      "4/4 [==============================] - 0s 15ms/step - loss: 0.0966 - accuracy: 0.9913 - val_loss: 0.2223 - val_accuracy: 0.9487\n",
      "Epoch 28/1000\n",
      "4/4 [==============================] - 0s 18ms/step - loss: 0.0689 - accuracy: 1.0000 - val_loss: 0.2278 - val_accuracy: 0.9231\n"
     ]
    }
   ],
   "source": [
    "new_model.compile(loss='sparse_categorical_crossentropy',\n",
    "                  optimizer='adam',\n",
    "                  metrics=['accuracy'])\n",
    "\n",
    "new_model_hist = new_model.fit(X_train, y_train,\n",
    "                              validation_data=(X_test, y_test),\n",
    "                              batch_size=32,\n",
    "                              epochs=1000,\n",
    "                              callbacks=[es])"
   ]
  },
  {
   "cell_type": "code",
   "execution_count": 31,
   "metadata": {
    "colab": {
     "base_uri": "https://localhost:8080/",
     "height": 458
    },
    "id": "5dcZFs29ehra",
    "outputId": "3f4b66f5-2d52-4bbe-c4ac-db925b6dd429"
   },
   "outputs": [
    {
     "data": {
      "image/png": "[encoded data removed]",
      "text/plain": [
       "<Figure size 1080x504 with 2 Axes>"
      ]
     },
     "metadata": {
      "needs_background": "light",
      "tags": []
     },
     "output_type": "display_data"
    }
   ],
   "source": [
    "plot_training_curves(history=new_model_hist)"
   ]
  }
 ],
 "metadata": {
  "accelerator": "GPU",
  "colab": {
   "name": "Homework4.ipynb",
   "provenance": []
  },
  "kernelspec": {
   "display_name": "Python 3 (ipykernel)",
   "language": "python",
   "name": "python3"
  },
  "language_info": {
   "codemirror_mode": {
    "name": "ipython",
    "version": 3
   },
   "file_extension": ".py",
   "mimetype": "text/x-python",
   "name": "python",
   "nbconvert_exporter": "python",
   "pygments_lexer": "ipython3",
   "version": "3.9.7"
  }
 },
 "nbformat": 4,
 "nbformat_minor": 1
}
